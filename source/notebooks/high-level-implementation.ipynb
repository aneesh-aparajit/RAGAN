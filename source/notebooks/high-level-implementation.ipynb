{
 "cells": [
  {
   "cell_type": "markdown",
   "id": "ee4ef0d0",
   "metadata": {},
   "source": [
    "# Reaging GANs"
   ]
  },
  {
   "cell_type": "code",
   "execution_count": 1,
   "id": "424669b7",
   "metadata": {},
   "outputs": [],
   "source": [
    "import torch\n",
    "from torch import nn, optim\n",
    "import torch.nn.functional as F\n",
    "import typing\n",
    "import wandb\n",
    "import os\n",
    "from tqdm.notebook import tqdm\n",
    "import cv2\n",
    "import time\n",
    "\n",
    "# wandb.login()"
   ]
  },
  {
   "cell_type": "markdown",
   "id": "11b610d6",
   "metadata": {},
   "source": [
    "# Utilities\n",
    "\n",
    "## Convolutional Block"
   ]
  },
  {
   "cell_type": "code",
   "execution_count": 2,
   "id": "91ec6208",
   "metadata": {},
   "outputs": [],
   "source": [
    "class ConvBlock(nn.Module):\n",
    "    def __init__(self, in_channels: int, out_channels: int, stride: int = 2) -> None:\n",
    "        super(ConvBlock, self).__init__()\n",
    "        self.conv = nn.Sequential(\n",
    "            nn.Conv2d(in_channels=in_channels, out_channels=out_channels, kernel_size=4, stride=stride, padding=1),\n",
    "            nn.BatchNorm2d(num_features=out_channels),\n",
    "            nn.ReLU(inplace=False)\n",
    "        )\n",
    "    \n",
    "    def forward(self, x: torch.Tensor) -> torch.Tensor:\n",
    "        return self.conv(x)"
   ]
  },
  {
   "cell_type": "markdown",
   "id": "eb88e49d",
   "metadata": {},
   "source": [
    "## Transpose Convolutional Block"
   ]
  },
  {
   "cell_type": "code",
   "execution_count": 3,
   "id": "8cd4b44a",
   "metadata": {},
   "outputs": [],
   "source": [
    "class TransposeConvBlock(nn.Module):\n",
    "    def __init__(self, in_channels: int, out_channels: int, stride: int = 2) -> None:\n",
    "        super(TransposeConvBlock, self).__init__()\n",
    "        self.tran_conv = nn.Sequential(\n",
    "            nn.ConvTranspose2d(in_channels=in_channels, out_channels=out_channels, kernel_size=4, \n",
    "                               stride=stride, padding=1),\n",
    "            nn.BatchNorm2d(num_features=out_channels),\n",
    "            nn.ReLU(inplace=False)\n",
    "        )\n",
    "\n",
    "    def forward(self, x: torch.Tensor) -> torch.Tensor:\n",
    "        return self.tran_conv(x)"
   ]
  },
  {
   "cell_type": "markdown",
   "id": "c75d4e7d",
   "metadata": {},
   "source": [
    "# Discriminator"
   ]
  },
  {
   "cell_type": "code",
   "execution_count": 4,
   "id": "9c543f83",
   "metadata": {},
   "outputs": [],
   "source": [
    "class Discriminator(nn.Module):\n",
    "    '''Implementation is the same as Pix2Pix\n",
    "\n",
    "    The forward method will have the the input image and the target image.\n",
    "        - The target image may not be of the same person, so as result, we'll consider a few more loss functions like the reconstruction loss.\n",
    "    '''\n",
    "    def __init__(self, in_channels: int = 3, features: tuple = (64, 128, 256, 512), input_size: int = 128, num_age_groups: int = 3) -> None:\n",
    "        super(Discriminator, self).__init__()\n",
    "        self.inital = nn.Sequential(\n",
    "            nn.Conv2d(in_channels=in_channels*2 + 2, out_channels=features[0], kernel_size=4, stride=2, padding=1),\n",
    "            nn.LeakyReLU(negative_slope=0.2, inplace=False)\n",
    "        )\n",
    "\n",
    "        layers = []\n",
    "        in_channels = features[0]\n",
    "\n",
    "        for ix in range(1, len(features), 1):\n",
    "            if ix == len(features) - 1:\n",
    "                layers.append(ConvBlock(in_channels=in_channels, out_channels=features[ix], stride=1))\n",
    "            else:\n",
    "                layers.append(ConvBlock(in_channels=in_channels, out_channels=features[ix]))\n",
    "            in_channels = features[ix]\n",
    "\n",
    "        layers.append(nn.Conv2d(in_channels=in_channels, out_channels=1, kernel_size=4, stride=1, padding=1))\n",
    "\n",
    "        self.model = nn.Sequential(*layers)\n",
    "\n",
    "        self.input_size = input_size\n",
    "        \n",
    "        self.input_embed = nn.Embedding(num_embeddings=num_age_groups, embedding_dim=self.input_size ** 2)\n",
    "        self.output_embed = nn.Embedding(num_embeddings=num_age_groups, embedding_dim=self.input_size ** 2)\n",
    "\n",
    "    \n",
    "    def forward(self, input_img: torch.Tensor, input_age: torch.Tensor, output_img: torch.Tensor, output_age: torch.Tensor) -> torch.Tensor:\n",
    "        '''This is the forward call of the Discriminator\n",
    "        \n",
    "        Args:\n",
    "        ----\n",
    "            - input_tensor : Tuple[torch.Tensor, torch.Tensor]\n",
    "                - The first element is the input image\n",
    "                - The second element is the input age\n",
    "\n",
    "            - output_tensor : Tuple[torch.Tensor, torch.Tensor]\n",
    "                - The first element is the output image\n",
    "                - The second element is the output age\n",
    "\n",
    "        The considered solution, is similar to the original \"Conditional Paper\".\n",
    "            - In this implementation, what we do is, we pass the input age embedding, output image, output age embedding.\n",
    "                - The idea behind this is that the model will eventually learn the correlation between the pixel values in the input age, output image and the age groups.\n",
    "                - Here, we can use a single age embedding layer, but I want to experiment with two different embedding layers of the input age and the output age.\n",
    "\n",
    "        '''\n",
    "\n",
    "        input_age_embed = self.input_embed(input_age).reshape(-1, 1, self.input_size, self.input_size)\n",
    "        output_age_embed = self.output_embed(output_age).reshape(-1, 1, self.input_size, self.input_size)\n",
    "\n",
    "        X = torch.cat([input_img, input_age_embed], dim=1)\n",
    "        y = torch.cat([output_img, output_age_embed], dim=1)\n",
    "\n",
    "        x = torch.cat([X, y], dim=1)\n",
    "        x = self.inital(x)\n",
    "        return self.model(x)"
   ]
  },
  {
   "cell_type": "code",
   "execution_count": 5,
   "id": "fee64c38",
   "metadata": {
    "scrolled": true
   },
   "outputs": [
    {
     "name": "stdout",
     "output_type": "stream",
     "text": [
      "\n",
      "[PROCESSING THE DATA...]\n",
      "\n",
      "z: torch.Size([5, 1, 30, 30])\n"
     ]
    }
   ],
   "source": [
    "def test():\n",
    "    X_img = torch.randn((5, 3, 256, 256))\n",
    "    X_age = torch.LongTensor([2, 2, 1, 1, 2])\n",
    "\n",
    "    y_img = torch.randn((5, 3, 256, 256))\n",
    "    y_age = torch.LongTensor([2, 2, 0, 1, 2])\n",
    "    \n",
    "    model = Discriminator(input_size=256)\n",
    "    \n",
    "    print(f'\\n[PROCESSING THE DATA...]\\n')\n",
    "    \n",
    "    z = model.forward(X_img, X_age, y_img, y_age)\n",
    "    \n",
    "#     print(model)\n",
    "\n",
    "    print(f'z: {z.shape}')\n",
    "    \n",
    "test()"
   ]
  },
  {
   "cell_type": "markdown",
   "id": "40f2c8a0",
   "metadata": {},
   "source": [
    "# Generator"
   ]
  },
  {
   "cell_type": "code",
   "execution_count": 6,
   "id": "fbb18545",
   "metadata": {},
   "outputs": [],
   "source": [
    "class Generator(nn.Module):\n",
    "    \"\"\"This is essentially a U-Net type architecture. But, we'll pass the input age and the output age as well.\n",
    "    \n",
    "    So, if the in_channels = 3, then we'll pass 5 channels in the model.\n",
    "        - 1 will be for the input_age embedding.\n",
    "        - 2 will be for the output_age embedding.\n",
    "    \n",
    "    \"\"\"\n",
    "\n",
    "    def __init__(self, in_channels: int = 3, num_age_groups: int = 3, input_size: int = 128) -> None:\n",
    "        super(Generator, self).__init__()\n",
    "        \n",
    "        self.input_embed = nn.Embedding(num_embeddings=num_age_groups, embedding_dim=input_size*input_size)\n",
    "        self.output_embed = nn.Embedding(num_embeddings=num_age_groups, embedding_dim=input_size*input_size)\n",
    "        self.input_size = input_size\n",
    "        \n",
    "        self.init_down = ConvBlock(in_channels=in_channels + 2, out_channels=64) # 5 -> 64\n",
    "        \n",
    "        self.down1 = ConvBlock(in_channels=64, out_channels=128) # 64 -> 128\n",
    "        self.down2 = ConvBlock(in_channels=128, out_channels=256) # 128 -> 256\n",
    "        self.down3 = ConvBlock(in_channels=256, out_channels=512) # 256 -> 512\n",
    "        self.down4 = ConvBlock(in_channels=512, out_channels=512) # 512 -> 512\n",
    "        self.down5 = ConvBlock(in_channels=512, out_channels=512) # 512 -> 512\n",
    "        self.down6 = ConvBlock(in_channels=512, out_channels=512) # 512 -> 512\n",
    "        \n",
    "        # bottle neck\n",
    "        self.bottle_neck = nn.Sequential(\n",
    "            nn.Conv2d(512, 512, 4, 2, 1, padding_mode='reflect'),\n",
    "            nn.LeakyReLU(negative_slope=0.2, inplace=False)\n",
    "        ) #\n",
    "        \n",
    "        self.up1 = TransposeConvBlock(in_channels=512, out_channels=512) # 512 -> 512\n",
    "        self.up2 = TransposeConvBlock(in_channels=1024, out_channels=512) # 512 -> 1024\n",
    "        self.up3 = TransposeConvBlock(in_channels=1024, out_channels=512) # 1024 -> 1024\n",
    "        self.up4 = TransposeConvBlock(in_channels=1024, out_channels=512) # 1024 -> 512\n",
    "        self.up5 = TransposeConvBlock(in_channels=1024, out_channels=256) # 512 -> 256\n",
    "        self.up6 = TransposeConvBlock(in_channels=512, out_channels=128) # 256 -> 128\n",
    "        self.up7 = TransposeConvBlock(in_channels=256, out_channels=64) # 128 -> 64\n",
    "        self.final_up = nn.Sequential(\n",
    "            nn.ConvTranspose2d(in_channels=128, out_channels=3, kernel_size=4, stride=2, padding=1),\n",
    "            nn.Tanh()\n",
    "        ) # 64 -> 3\n",
    "    \n",
    "    def forward(self, x: torch.Tensor, input_age: torch.Tensor, output_age: torch.Tensor) -> torch.Tensor:\n",
    "        \n",
    "        inp_embed = self.input_embed(input_age).reshape(input_age.shape[0], 1, self.input_size, self.input_size)\n",
    "        out_embed = self.output_embed(output_age).reshape(output_age.shape[0], 1, self.input_size, self.input_size)\n",
    "        \n",
    "        y = torch.cat([x, inp_embed, out_embed], dim=1)\n",
    "        d1 = self.init_down(y)\n",
    "        d2 = self.down1(d1)\n",
    "        d3 = self.down2(d2)\n",
    "        d4 = self.down3(d3)\n",
    "        d5 = self.down4(d4)\n",
    "        d6 = self.down5(d5)\n",
    "        d7 = self.down6(d6)\n",
    "        bottle_neck = self.bottle_neck(d7)\n",
    "        u1 = self.up1(bottle_neck)\n",
    "        u2 = self.up2(torch.cat([u1, d7], dim=1))\n",
    "        u3 = self.up3(torch.cat([u2, d6], dim=1))\n",
    "        u4 = self.up4(torch.cat([u3, d5], dim=1))\n",
    "        u5 = self.up5(torch.cat([u4, d4], dim=1))\n",
    "        u6 = self.up6(torch.cat([u5, d3], dim=1))\n",
    "        u7 = self.up7(torch.cat([u6, d2], dim=1))\n",
    "        return self.final_up(torch.cat([u7, d1], dim=1))"
   ]
  },
  {
   "cell_type": "code",
   "execution_count": 7,
   "id": "27c43d97",
   "metadata": {},
   "outputs": [
    {
     "name": "stdout",
     "output_type": "stream",
     "text": [
      "\n",
      "[PROCESSING THE DATA...]\n",
      "\n",
      "z: torch.Size([1, 3, 256, 256])\n"
     ]
    }
   ],
   "source": [
    "def test():\n",
    "    X_img = torch.randn((1, 3, 256, 256))\n",
    "    X_age = torch.tensor([[2]])\n",
    "    y_age = torch.tensor([[1]])\n",
    "    \n",
    "    model = Generator(input_size=256)\n",
    "\n",
    "    print(f'\\n[PROCESSING THE DATA...]\\n')\n",
    "    \n",
    "    z = model.forward(X_img, X_age, y_age)\n",
    "\n",
    "    print(f'z: {z.shape}')\n",
    "    \n",
    "test()"
   ]
  },
  {
   "cell_type": "markdown",
   "id": "616716b0",
   "metadata": {},
   "source": [
    "# Optimization / Loss function\n",
    "\n",
    "The framework operates on three input information, an input image $x$ and its corresponding age label $y$, and randomly sampled target age $y'$ into which input should be transformed. Subsequently, given this information, G will produce __age-transformed $x'$__, __reconstructed $x_{rec}$__, and __cycle-consistency images $x_{cycle}$__ as \n",
    "\n",
    "$$x'=G(x,y')$$\n",
    "\n",
    "$$x_{rec}=G(x,y)$$\n",
    "\n",
    "$$x_{cycle}=G(x',y)$$\n",
    "\n",
    "## Reconstruction loss\n",
    "\n",
    "$$\\mathcal{L}_{rec}(G) = \\|x-x_{rec}\\|_1$$\n",
    "\n",
    "\n",
    "## Cycle-Consistency loss\n",
    "\n",
    "$$\\mathcal{L}_{cyc}(G) = \\|x-x_{cycle}\\|_1$$\n",
    "\n",
    "## Adversarial loss\n",
    "\n",
    "$$\\mathcal{L}_{adv}(G,D)=\\mathbb{E}_{x,y}[\\log D_y(x)] + \\mathbb{E}_{x,y'}[\\log(1-D_{y'}(x'))]$$\n"
   ]
  },
  {
   "cell_type": "markdown",
   "id": "d884570a-28f9-463a-9134-f5b238451df1",
   "metadata": {},
   "source": [
    "# Custom Training Loop"
   ]
  },
  {
   "cell_type": "code",
   "execution_count": 8,
   "id": "e0621319-6da2-4d10-aa13-0da9391d3882",
   "metadata": {},
   "outputs": [],
   "source": [
    "class ReAgingGAN:\n",
    "    def __init__(self, \n",
    "                 discriminator: Discriminator, \n",
    "                 generator: Generator,\n",
    "                 optimizers: dict, \n",
    "                 schedulers: dict, \n",
    "                 traindata,\n",
    "                 config: dict) -> None:\n",
    "        self.discriminator = discriminator\n",
    "        self.generator = generator\n",
    "        self.optimizers = optimizers\n",
    "        self.schedulers = schedulers\n",
    "        self.bce = nn.BCEWithLogitsLoss()\n",
    "        self.l1_loss = nn.L1Loss()\n",
    "        self.traindata = traindata\n",
    "        self.config = config\n",
    "        self.adv_losses = []\n",
    "        self.rec_losses = []\n",
    "        self.cyc_losses = []\n",
    "        self.gen_losses = []\n",
    "        self.disc_losses = []\n",
    "        \n",
    "    def train(self):\n",
    "        for epoch in range(self.config['EPOCHS']):\n",
    "            if epoch == 10:\n",
    "                self.config['ADV_LAMBDA'] = 1\n",
    "            \n",
    "            for batch_ix, (X, y) in enumerate(self.traindata):\n",
    "                \n",
    "                start = time.time()\n",
    "                \n",
    "                in_img, in_age = X[0].to(self.config['DEVICE']).unsqueeze(0).float(), X[1].to(self.config['DEVICE']).type(torch.long).unsqueeze(0)\n",
    "                out_img, out_age = y[0].to(self.config['DEVICE']).unsqueeze(0).float(), y[1].to(self.config['DEVICE']).type(torch.long).unsqueeze(0)\n",
    "                \n",
    "                \n",
    "                x_dash = self.generator(in_img, in_age, out_age)\n",
    "                x_rec  = self.generator(in_img, in_age, in_age)\n",
    "                x_cyc  = self.generator(x_dash, out_age, in_age)\n",
    "                \n",
    "                # adv_loss = self._adversarial_loss(in_img, in_age, out_img, out_age, x_dash)\n",
    "                rec_loss = self._reconstruction_loss(in_img, x_rec)\n",
    "                cyc_loss = self._cycle_consistency_loss(in_img, x_cyc)\n",
    "                \n",
    "                disc_fake = self.discriminator(in_img, in_age, x_dash, out_age)\n",
    "                disc_real = self.discriminator(in_img, in_age, out_img, out_age)\n",
    "\n",
    "                disc_real_loss = self.bce(disc_real, torch.ones_like(disc_real))\n",
    "                disc_fake_loss = self.bce(disc_fake, torch.zeros_like(disc_fake))\n",
    "\n",
    "                disc_loss = (disc_fake_loss + disc_real_loss) / 2\n",
    "\n",
    "                self.disc_losses.append(disc_loss)\n",
    "\n",
    "                self.optimizers['discriminator'].zero_grad()\n",
    "                disc_loss.backward(retain_graph=True)\n",
    "                self.optimizers['discriminator'].step()\n",
    "                self.schedulers['discriminator'].step()\n",
    "                \n",
    "                disc_fake = self.discriminator(in_img, in_age, x_dash, out_age)\n",
    "        \n",
    "                gen_loss = self.bce(disc_fake, torch.ones_like(disc_fake))\n",
    "                \n",
    "                self.adv_losses.append(gen_loss)\n",
    "                self.rec_losses.append(rec_loss)\n",
    "                self.cyc_losses.append(cyc_loss)\n",
    "                \n",
    "                gen_loss = self.config['ADV_LAMBDA'] * gen_loss + self.config['REC_LAMBDA'] * rec_loss + self.config['CYC_LAMBDA'] * cyc_loss\n",
    "                \n",
    "                self.gen_losses.append(gen_loss)\n",
    "                \n",
    "                self.optimizers['generator'].zero_grad()\n",
    "                gen_loss.backward()\n",
    "                self.optimizers['generator'].step()\n",
    "                self.schedulers['generator'].step()\n",
    "                \n",
    "                print(f'EPOCH {epoch+1}/{self.config[\"EPOCHS\"]}, Image #{batch_ix+1}/4812 completed, Time Taken: {time.time()-start:.3f} seconds, Gen Loss: {gen_loss.item():.3f}, Disc Loss: {disc_loss.item():.3f}')\n",
    "            \n",
    "    \n",
    "    def _reconstruction_loss(self, in_img: torch.Tensor, x_rec: torch.Tensor) -> torch.Tensor:\n",
    "        return self.l1_loss(in_img, x_rec)\n",
    "    \n",
    "    def _cycle_consistency_loss(self, in_img: torch.Tensor, x_cyc: torch.Tensor) -> torch.Tensor:\n",
    "        return self.l1_loss(in_img, x_cyc)"
   ]
  },
  {
   "cell_type": "markdown",
   "id": "b17313c4",
   "metadata": {},
   "source": [
    "## Training"
   ]
  },
  {
   "cell_type": "code",
   "execution_count": 9,
   "id": "3664b852",
   "metadata": {},
   "outputs": [],
   "source": [
    "input_images = torch.load('../../data/input_images.pth')\n",
    "input_ages = torch.load('../../data/input_ages.pth')\n",
    "output_images = torch.load('../../data/output_images.pth')\n",
    "output_ages = torch.load('../../data/output_ages.pth')"
   ]
  },
  {
   "cell_type": "code",
   "execution_count": 10,
   "id": "e56cbbf0",
   "metadata": {},
   "outputs": [
    {
     "data": {
      "text/plain": [
       "(torch.Size([4812, 3, 256, 256]), torch.Size([4812]))"
      ]
     },
     "execution_count": 10,
     "metadata": {},
     "output_type": "execute_result"
    }
   ],
   "source": [
    "input_images.shape, input_ages.shape"
   ]
  },
  {
   "cell_type": "code",
   "execution_count": 11,
   "id": "03824ab6",
   "metadata": {},
   "outputs": [
    {
     "name": "stdout",
     "output_type": "stream",
     "text": [
      "torch.Size([3, 256, 256]) tensor(1.) torch.Size([3, 256, 256]) tensor(1.)\n"
     ]
    }
   ],
   "source": [
    "for x, y in zip(zip(input_images, input_ages), zip(output_images, output_ages)):\n",
    "    print(x[0].shape, x[1], y[0].shape, y[1])\n",
    "    break"
   ]
  },
  {
   "cell_type": "code",
   "execution_count": 12,
   "id": "7b3b7181",
   "metadata": {},
   "outputs": [
    {
     "data": {
      "text/plain": [
       "tensor(1)"
      ]
     },
     "execution_count": 12,
     "metadata": {},
     "output_type": "execute_result"
    }
   ],
   "source": [
    "y = torch.tensor(1.)\n",
    "y.type(torch.long)"
   ]
  },
  {
   "cell_type": "code",
   "execution_count": 13,
   "id": "b2bee921",
   "metadata": {},
   "outputs": [],
   "source": [
    "disc = Discriminator(in_channels=3, input_size=256, num_age_groups=3).to()\n",
    "gen = Generator(in_channels=3, input_size=256, num_age_groups=3)\n",
    "disc_opt = optim.Adam(disc.parameters(), lr=3e-4)\n",
    "gen_opt = optim.Adam(gen.parameters(), lr=3e-4)\n",
    "\n",
    "trainer = ReAgingGAN(\n",
    "    discriminator=disc,\n",
    "    generator=gen, \n",
    "    optimizers={\n",
    "        'discriminator': disc_opt,\n",
    "        'generator': gen_opt\n",
    "    },\n",
    "    schedulers={\n",
    "        'discriminator': optim.lr_scheduler.StepLR(disc_opt, step_size=40),\n",
    "        'generator': optim.lr_scheduler.StepLR(gen_opt, step_size=40)\n",
    "    }, \n",
    "    traindata=zip(zip(input_images, input_ages), zip(output_images, output_ages)),\n",
    "    config={\n",
    "        'EPOCHS': 30, \n",
    "        'DEVICE': torch.device('cuda' if torch.has_cuda else 'cpu'), \n",
    "        'ADV_LAMBDA': 10, \n",
    "        'REC_LAMBDA': 1,\n",
    "        'CYC_LAMBDA': 1\n",
    "    }\n",
    ")"
   ]
  },
  {
   "cell_type": "code",
   "execution_count": null,
   "id": "dcd07b3d",
   "metadata": {
    "scrolled": false
   },
   "outputs": [
    {
     "name": "stdout",
     "output_type": "stream",
     "text": [
      "EPOCH 1/30, Image #1/4812 completed, Time Taken: 6.412 seconds, Gen Loss: 174.352, Disc Loss: 0.717\n",
      "EPOCH 1/30, Image #2/4812 completed, Time Taken: 6.367 seconds, Gen Loss: 176.133, Disc Loss: 0.739\n",
      "EPOCH 1/30, Image #3/4812 completed, Time Taken: 6.343 seconds, Gen Loss: 179.042, Disc Loss: 0.641\n",
      "EPOCH 1/30, Image #4/4812 completed, Time Taken: 6.147 seconds, Gen Loss: 181.258, Disc Loss: 0.543\n",
      "EPOCH 1/30, Image #5/4812 completed, Time Taken: 6.155 seconds, Gen Loss: 181.933, Disc Loss: 0.494\n",
      "EPOCH 1/30, Image #6/4812 completed, Time Taken: 6.152 seconds, Gen Loss: 181.396, Disc Loss: 0.449\n",
      "EPOCH 1/30, Image #7/4812 completed, Time Taken: 6.182 seconds, Gen Loss: 180.777, Disc Loss: 0.378\n",
      "EPOCH 1/30, Image #8/4812 completed, Time Taken: 6.184 seconds, Gen Loss: 180.903, Disc Loss: 0.325\n",
      "EPOCH 1/30, Image #9/4812 completed, Time Taken: 6.189 seconds, Gen Loss: 181.916, Disc Loss: 0.288\n",
      "EPOCH 1/30, Image #10/4812 completed, Time Taken: 6.151 seconds, Gen Loss: 183.705, Disc Loss: 0.244\n",
      "EPOCH 1/30, Image #11/4812 completed, Time Taken: 6.150 seconds, Gen Loss: 185.968, Disc Loss: 0.203\n",
      "EPOCH 1/30, Image #12/4812 completed, Time Taken: 6.177 seconds, Gen Loss: 188.398, Disc Loss: 0.167\n",
      "EPOCH 1/30, Image #13/4812 completed, Time Taken: 6.179 seconds, Gen Loss: 190.810, Disc Loss: 0.137\n",
      "EPOCH 1/30, Image #14/4812 completed, Time Taken: 6.175 seconds, Gen Loss: 193.152, Disc Loss: 0.115\n",
      "EPOCH 1/30, Image #15/4812 completed, Time Taken: 6.194 seconds, Gen Loss: 195.349, Disc Loss: 0.096\n",
      "EPOCH 1/30, Image #16/4812 completed, Time Taken: 6.176 seconds, Gen Loss: 197.327, Disc Loss: 0.080\n",
      "EPOCH 1/30, Image #17/4812 completed, Time Taken: 6.203 seconds, Gen Loss: 199.096, Disc Loss: 0.068\n",
      "EPOCH 1/30, Image #18/4812 completed, Time Taken: 6.178 seconds, Gen Loss: 200.703, Disc Loss: 0.057\n",
      "EPOCH 1/30, Image #19/4812 completed, Time Taken: 6.195 seconds, Gen Loss: 202.166, Disc Loss: 0.048\n",
      "EPOCH 1/30, Image #20/4812 completed, Time Taken: 6.233 seconds, Gen Loss: 203.490, Disc Loss: 0.041\n",
      "EPOCH 1/30, Image #21/4812 completed, Time Taken: 6.196 seconds, Gen Loss: 204.707, Disc Loss: 0.035\n",
      "EPOCH 1/30, Image #22/4812 completed, Time Taken: 6.157 seconds, Gen Loss: 205.850, Disc Loss: 0.031\n",
      "EPOCH 1/30, Image #23/4812 completed, Time Taken: 6.204 seconds, Gen Loss: 206.929, Disc Loss: 0.027\n",
      "EPOCH 1/30, Image #24/4812 completed, Time Taken: 6.238 seconds, Gen Loss: 207.939, Disc Loss: 0.023\n",
      "EPOCH 1/30, Image #25/4812 completed, Time Taken: 6.197 seconds, Gen Loss: 208.890, Disc Loss: 0.021\n",
      "EPOCH 1/30, Image #26/4812 completed, Time Taken: 6.260 seconds, Gen Loss: 209.805, Disc Loss: 0.018\n",
      "EPOCH 1/30, Image #27/4812 completed, Time Taken: 6.250 seconds, Gen Loss: 210.701, Disc Loss: 0.016\n",
      "EPOCH 1/30, Image #28/4812 completed, Time Taken: 6.223 seconds, Gen Loss: 211.580, Disc Loss: 0.015\n",
      "EPOCH 1/30, Image #29/4812 completed, Time Taken: 6.149 seconds, Gen Loss: 212.429, Disc Loss: 0.013\n",
      "EPOCH 1/30, Image #30/4812 completed, Time Taken: 6.207 seconds, Gen Loss: 213.238, Disc Loss: 0.012\n",
      "EPOCH 1/30, Image #31/4812 completed, Time Taken: 6.264 seconds, Gen Loss: 350.625, Disc Loss: 0.159\n",
      "EPOCH 1/30, Image #32/4812 completed, Time Taken: 6.175 seconds, Gen Loss: 357.751, Disc Loss: 0.070\n",
      "EPOCH 1/30, Image #33/4812 completed, Time Taken: 6.202 seconds, Gen Loss: 361.767, Disc Loss: 0.047\n",
      "EPOCH 1/30, Image #34/4812 completed, Time Taken: 6.153 seconds, Gen Loss: 364.216, Disc Loss: 0.036\n",
      "EPOCH 1/30, Image #35/4812 completed, Time Taken: 6.193 seconds, Gen Loss: 365.893, Disc Loss: 0.029\n",
      "EPOCH 1/30, Image #36/4812 completed, Time Taken: 6.185 seconds, Gen Loss: 367.171, Disc Loss: 0.025\n",
      "EPOCH 1/30, Image #37/4812 completed, Time Taken: 6.208 seconds, Gen Loss: 368.238, Disc Loss: 0.022\n",
      "EPOCH 1/30, Image #38/4812 completed, Time Taken: 6.242 seconds, Gen Loss: 369.199, Disc Loss: 0.020\n",
      "EPOCH 1/30, Image #39/4812 completed, Time Taken: 6.248 seconds, Gen Loss: 370.100, Disc Loss: 0.018\n",
      "EPOCH 1/30, Image #40/4812 completed, Time Taken: 6.239 seconds, Gen Loss: 370.966, Disc Loss: 0.016\n",
      "EPOCH 1/30, Image #41/4812 completed, Time Taken: 6.264 seconds, Gen Loss: 371.026, Disc Loss: 0.014\n",
      "EPOCH 1/30, Image #42/4812 completed, Time Taken: 6.247 seconds, Gen Loss: 371.114, Disc Loss: 0.014\n",
      "EPOCH 1/30, Image #43/4812 completed, Time Taken: 6.252 seconds, Gen Loss: 371.203, Disc Loss: 0.014\n",
      "EPOCH 1/30, Image #44/4812 completed, Time Taken: 6.231 seconds, Gen Loss: 371.293, Disc Loss: 0.013\n",
      "EPOCH 1/30, Image #45/4812 completed, Time Taken: 6.287 seconds, Gen Loss: 371.384, Disc Loss: 0.013\n",
      "EPOCH 1/30, Image #46/4812 completed, Time Taken: 6.183 seconds, Gen Loss: 371.476, Disc Loss: 0.013\n",
      "EPOCH 1/30, Image #47/4812 completed, Time Taken: 6.214 seconds, Gen Loss: 371.569, Disc Loss: 0.013\n",
      "EPOCH 1/30, Image #48/4812 completed, Time Taken: 6.356 seconds, Gen Loss: 371.662, Disc Loss: 0.012\n",
      "EPOCH 1/30, Image #49/4812 completed, Time Taken: 6.351 seconds, Gen Loss: 371.755, Disc Loss: 0.012\n",
      "EPOCH 1/30, Image #50/4812 completed, Time Taken: 6.363 seconds, Gen Loss: 371.849, Disc Loss: 0.012\n",
      "EPOCH 1/30, Image #51/4812 completed, Time Taken: 6.257 seconds, Gen Loss: 371.943, Disc Loss: 0.012\n",
      "EPOCH 1/30, Image #52/4812 completed, Time Taken: 6.253 seconds, Gen Loss: 372.037, Disc Loss: 0.011\n",
      "EPOCH 1/30, Image #53/4812 completed, Time Taken: 6.326 seconds, Gen Loss: 372.130, Disc Loss: 0.011\n",
      "EPOCH 1/30, Image #54/4812 completed, Time Taken: 6.247 seconds, Gen Loss: 372.223, Disc Loss: 0.011\n",
      "EPOCH 1/30, Image #55/4812 completed, Time Taken: 6.190 seconds, Gen Loss: 372.315, Disc Loss: 0.011\n",
      "EPOCH 1/30, Image #56/4812 completed, Time Taken: 6.165 seconds, Gen Loss: 372.407, Disc Loss: 0.010\n",
      "EPOCH 1/30, Image #57/4812 completed, Time Taken: 6.288 seconds, Gen Loss: 372.498, Disc Loss: 0.010\n",
      "EPOCH 1/30, Image #58/4812 completed, Time Taken: 6.176 seconds, Gen Loss: 372.588, Disc Loss: 0.010\n",
      "EPOCH 1/30, Image #59/4812 completed, Time Taken: 6.251 seconds, Gen Loss: 372.676, Disc Loss: 0.010\n",
      "EPOCH 1/30, Image #60/4812 completed, Time Taken: 6.271 seconds, Gen Loss: 372.764, Disc Loss: 0.010\n",
      "EPOCH 1/30, Image #61/4812 completed, Time Taken: 6.287 seconds, Gen Loss: 194.627, Disc Loss: 0.143\n",
      "EPOCH 1/30, Image #62/4812 completed, Time Taken: 6.380 seconds, Gen Loss: 194.565, Disc Loss: 0.105\n",
      "EPOCH 1/30, Image #63/4812 completed, Time Taken: 6.206 seconds, Gen Loss: 194.551, Disc Loss: 0.069\n",
      "EPOCH 1/30, Image #64/4812 completed, Time Taken: 6.328 seconds, Gen Loss: 194.611, Disc Loss: 0.050\n",
      "EPOCH 1/30, Image #65/4812 completed, Time Taken: 6.181 seconds, Gen Loss: 194.735, Disc Loss: 0.042\n",
      "EPOCH 1/30, Image #66/4812 completed, Time Taken: 6.180 seconds, Gen Loss: 194.902, Disc Loss: 0.038\n",
      "EPOCH 1/30, Image #67/4812 completed, Time Taken: 6.176 seconds, Gen Loss: 195.090, Disc Loss: 0.036\n",
      "EPOCH 1/30, Image #68/4812 completed, Time Taken: 6.170 seconds, Gen Loss: 195.285, Disc Loss: 0.034\n",
      "EPOCH 1/30, Image #69/4812 completed, Time Taken: 6.149 seconds, Gen Loss: 195.473, Disc Loss: 0.033\n",
      "EPOCH 1/30, Image #70/4812 completed, Time Taken: 6.321 seconds, Gen Loss: 195.646, Disc Loss: 0.031\n",
      "EPOCH 1/30, Image #71/4812 completed, Time Taken: 6.155 seconds, Gen Loss: 195.803, Disc Loss: 0.030\n",
      "EPOCH 1/30, Image #72/4812 completed, Time Taken: 6.155 seconds, Gen Loss: 195.940, Disc Loss: 0.029\n",
      "EPOCH 1/30, Image #73/4812 completed, Time Taken: 6.187 seconds, Gen Loss: 196.062, Disc Loss: 0.028\n",
      "EPOCH 1/30, Image #74/4812 completed, Time Taken: 6.147 seconds, Gen Loss: 196.174, Disc Loss: 0.026\n",
      "EPOCH 1/30, Image #75/4812 completed, Time Taken: 6.175 seconds, Gen Loss: 196.279, Disc Loss: 0.025\n",
      "EPOCH 1/30, Image #76/4812 completed, Time Taken: 6.211 seconds, Gen Loss: 196.381, Disc Loss: 0.023\n",
      "EPOCH 1/30, Image #77/4812 completed, Time Taken: 6.197 seconds, Gen Loss: 196.482, Disc Loss: 0.022\n",
      "EPOCH 1/30, Image #78/4812 completed, Time Taken: 6.143 seconds, Gen Loss: 196.585, Disc Loss: 0.021\n",
      "EPOCH 1/30, Image #79/4812 completed, Time Taken: 6.189 seconds, Gen Loss: 196.689, Disc Loss: 0.019\n",
      "EPOCH 1/30, Image #80/4812 completed, Time Taken: 6.196 seconds, Gen Loss: 196.794, Disc Loss: 0.018\n",
      "EPOCH 1/30, Image #81/4812 completed, Time Taken: 6.340 seconds, Gen Loss: 196.801, Disc Loss: 0.017\n",
      "EPOCH 1/30, Image #82/4812 completed, Time Taken: 6.185 seconds, Gen Loss: 196.813, Disc Loss: 0.016\n"
     ]
    },
    {
     "name": "stdout",
     "output_type": "stream",
     "text": [
      "EPOCH 1/30, Image #83/4812 completed, Time Taken: 6.224 seconds, Gen Loss: 196.825, Disc Loss: 0.016\n",
      "EPOCH 1/30, Image #84/4812 completed, Time Taken: 6.368 seconds, Gen Loss: 196.838, Disc Loss: 0.016\n",
      "EPOCH 1/30, Image #85/4812 completed, Time Taken: 6.543 seconds, Gen Loss: 196.851, Disc Loss: 0.016\n",
      "EPOCH 1/30, Image #86/4812 completed, Time Taken: 6.777 seconds, Gen Loss: 196.865, Disc Loss: 0.016\n",
      "EPOCH 1/30, Image #87/4812 completed, Time Taken: 6.399 seconds, Gen Loss: 196.879, Disc Loss: 0.016\n",
      "EPOCH 1/30, Image #88/4812 completed, Time Taken: 6.222 seconds, Gen Loss: 196.894, Disc Loss: 0.016\n",
      "EPOCH 1/30, Image #89/4812 completed, Time Taken: 6.156 seconds, Gen Loss: 196.909, Disc Loss: 0.016\n",
      "EPOCH 1/30, Image #90/4812 completed, Time Taken: 6.183 seconds, Gen Loss: 196.924, Disc Loss: 0.016\n",
      "EPOCH 1/30, Image #91/4812 completed, Time Taken: 6.147 seconds, Gen Loss: 184.437, Disc Loss: 0.025\n",
      "EPOCH 1/30, Image #92/4812 completed, Time Taken: 6.138 seconds, Gen Loss: 184.454, Disc Loss: 0.025\n",
      "EPOCH 1/30, Image #93/4812 completed, Time Taken: 6.157 seconds, Gen Loss: 184.476, Disc Loss: 0.025\n",
      "EPOCH 1/30, Image #94/4812 completed, Time Taken: 6.152 seconds, Gen Loss: 184.500, Disc Loss: 0.024\n"
     ]
    }
   ],
   "source": [
    "torch.autograd.set_detect_anomaly(True)\n",
    "trainer.train()"
   ]
  }
 ],
 "metadata": {
  "kernelspec": {
   "display_name": "PyTorch (Python 3.9)",
   "language": "python",
   "name": "pytorch_env"
  },
  "language_info": {
   "codemirror_mode": {
    "name": "ipython",
    "version": 3
   },
   "file_extension": ".py",
   "mimetype": "text/x-python",
   "name": "python",
   "nbconvert_exporter": "python",
   "pygments_lexer": "ipython3",
   "version": "3.9.12"
  },
  "latex_envs": {
   "LaTeX_envs_menu_present": true,
   "autoclose": false,
   "autocomplete": true,
   "bibliofile": "biblio.bib",
   "cite_by": "apalike",
   "current_citInitial": 1,
   "eqLabelWithNumbers": true,
   "eqNumInitial": 1,
   "hotkeys": {
    "equation": "Ctrl-E",
    "itemize": "Ctrl-I"
   },
   "labels_anchors": false,
   "latex_user_defs": false,
   "report_style_numbering": false,
   "user_envs_cfg": false
  },
  "toc": {
   "base_numbering": 1,
   "nav_menu": {},
   "number_sections": true,
   "sideBar": true,
   "skip_h1_title": false,
   "title_cell": "Table of Contents",
   "title_sidebar": "Contents",
   "toc_cell": false,
   "toc_position": {},
   "toc_section_display": true,
   "toc_window_display": false
  }
 },
 "nbformat": 4,
 "nbformat_minor": 5
}
