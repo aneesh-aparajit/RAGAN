{
 "cells": [
  {
   "cell_type": "markdown",
   "id": "ee4ef0d0",
   "metadata": {},
   "source": [
    "# Reaging GANs"
   ]
  },
  {
   "cell_type": "code",
   "execution_count": 1,
   "id": "424669b7",
   "metadata": {},
   "outputs": [
    {
     "name": "stderr",
     "output_type": "stream",
     "text": [
      "\u001b[34m\u001b[1mwandb\u001b[0m: Currently logged in as: \u001b[33maaparajit02\u001b[0m. Use \u001b[1m`wandb login --relogin`\u001b[0m to force relogin\n"
     ]
    },
    {
     "data": {
      "text/plain": [
       "True"
      ]
     },
     "execution_count": 1,
     "metadata": {},
     "output_type": "execute_result"
    }
   ],
   "source": [
    "import torch\n",
    "from torch import nn, optim\n",
    "import torch.nn.functional as F\n",
    "import typing\n",
    "import wandb\n",
    "import os\n",
    "from tqdm.notebook import tqdm\n",
    "import cv2\n",
    "\n",
    "wandb.login()"
   ]
  },
  {
   "cell_type": "markdown",
   "id": "11b610d6",
   "metadata": {},
   "source": [
    "# Utilities\n",
    "\n",
    "## Convolutional Block"
   ]
  },
  {
   "cell_type": "code",
   "execution_count": 2,
   "id": "91ec6208",
   "metadata": {},
   "outputs": [],
   "source": [
    "class ConvBlock(nn.Module):\n",
    "    def __init__(self, in_channels: int, out_channels: int, stride: int = 2) -> None:\n",
    "        super(ConvBlock, self).__init__()\n",
    "        self.conv = nn.Sequential(\n",
    "            nn.Conv2d(in_channels=in_channels, out_channels=out_channels, kernel_size=4, stride=stride, padding=1, padding_mode='reflect'),\n",
    "            nn.BatchNorm2d(num_features=out_channels),\n",
    "            nn.LeakyReLU(negative_slope=0.2)\n",
    "        )\n",
    "    \n",
    "    def forward(self, x: torch.Tensor) -> torch.Tensor:\n",
    "        return self.conv(x)"
   ]
  },
  {
   "cell_type": "markdown",
   "id": "eb88e49d",
   "metadata": {},
   "source": [
    "## Transpose Convolutional Block"
   ]
  },
  {
   "cell_type": "code",
   "execution_count": 3,
   "id": "8cd4b44a",
   "metadata": {},
   "outputs": [],
   "source": [
    "class TransposeConvBlock(nn.Module):\n",
    "    def __init__(self, in_channels: int, out_channels: int, stride: int = 2) -> None:\n",
    "        super(TransposeConvBlock, self).__init__()\n",
    "        self.tran_conv = nn.Sequential(\n",
    "            nn.ConvTranspose2d(in_channels=in_channels, out_channels=out_channels, kernel_size=4, \n",
    "                               stride=stride, padding=1),\n",
    "            nn.BatchNorm2d(num_features=out_channels),\n",
    "            nn.ReLU()\n",
    "        )\n",
    "\n",
    "    def forward(self, x: torch.Tensor) -> torch.Tensor:\n",
    "        return self.tran_conv(x)"
   ]
  },
  {
   "cell_type": "markdown",
   "id": "c75d4e7d",
   "metadata": {},
   "source": [
    "# Discriminator"
   ]
  },
  {
   "cell_type": "code",
   "execution_count": 38,
   "id": "9c543f83",
   "metadata": {},
   "outputs": [],
   "source": [
    "class Discriminator(nn.Module):\n",
    "    '''Implementation is the same as Pix2Pix\n",
    "\n",
    "    The forward method will have the the input image and the target image.\n",
    "        - The target image may not be of the same person, so as result, we'll consider a few more loss functions like the reconstruction loss.\n",
    "    '''\n",
    "    def __init__(self, in_channels: int = 3, features: tuple = (64, 128, 256, 512), input_size: int = 128, num_age_groups: int = 3) -> None:\n",
    "        super(Discriminator, self).__init__()\n",
    "        self.inital = nn.Sequential(\n",
    "            nn.Conv2d(in_channels=in_channels*2 + 2, out_channels=features[0], kernel_size=4, stride=2, padding=1, padding_mode='reflect'),\n",
    "            nn.LeakyReLU(negative_slope=0.2)\n",
    "        )\n",
    "\n",
    "        layers = []\n",
    "        in_channels = features[0]\n",
    "\n",
    "        for ix in range(1, len(features), 1):\n",
    "            if ix == len(features) - 1:\n",
    "                layers.append(ConvBlock(in_channels=in_channels, out_channels=features[ix], stride=1))\n",
    "            else:\n",
    "                layers.append(ConvBlock(in_channels=in_channels, out_channels=features[ix]))\n",
    "            in_channels = features[ix]\n",
    "\n",
    "        layers.append(nn.Conv2d(in_channels=in_channels, out_channels=1, kernel_size=4, stride=1, padding=1, padding_mode='reflect'))\n",
    "\n",
    "        self.model = nn.Sequential(*layers)\n",
    "\n",
    "        self.input_size = input_size\n",
    "        \n",
    "        self.input_embed = nn.Embedding(num_embeddings=num_age_groups, embedding_dim=self.input_size ** 2)\n",
    "        self.output_embed = nn.Embedding(num_embeddings=num_age_groups, embedding_dim=self.input_size ** 2)\n",
    "\n",
    "    \n",
    "    def forward(self, input_img: torch.Tensor, input_age: torch.Tensor, output_img: torch.Tensor, output_age: torch.Tensor) -> torch.Tensor:\n",
    "        '''This is the forward call of the Discriminator\n",
    "        \n",
    "        Args:\n",
    "        ----\n",
    "            - input_tensor : Tuple[torch.Tensor, torch.Tensor]\n",
    "                - The first element is the input image\n",
    "                - The second element is the input age\n",
    "\n",
    "            - output_tensor : Tuple[torch.Tensor, torch.Tensor]\n",
    "                - The first element is the output image\n",
    "                - The second element is the output age\n",
    "\n",
    "        The considered solution, is similar to the original \"Conditional Paper\".\n",
    "            - In this implementation, what we do is, we pass the input age embedding, output image, output age embedding.\n",
    "                - The idea behind this is that the model will eventually learn the correlation between the pixel values in the input age, output image and the age groups.\n",
    "                - Here, we can use a single age embedding layer, but I want to experiment with two different embedding layers of the input age and the output age.\n",
    "\n",
    "        '''\n",
    "\n",
    "        input_age_embed = self.input_embed(input_age).reshape(-1, 1, self.input_size, self.input_size)\n",
    "        output_age_embed = self.output_embed(output_age).reshape(-1, 1, self.input_size, self.input_size)\n",
    "\n",
    "        X = torch.cat([input_img, input_age_embed], dim=1)\n",
    "        y = torch.cat([output_img, output_age_embed], dim=1)\n",
    "\n",
    "        x = torch.cat([X, y], dim=1)\n",
    "        x = self.inital(x)\n",
    "        return self.model(x)"
   ]
  },
  {
   "cell_type": "code",
   "execution_count": 39,
   "id": "fee64c38",
   "metadata": {},
   "outputs": [
    {
     "name": "stdout",
     "output_type": "stream",
     "text": [
      "\n",
      "[PROCESSING THE DATA...]\n",
      "\n",
      "z: torch.Size([5, 1, 30, 30])\n"
     ]
    }
   ],
   "source": [
    "def test():\n",
    "    X_img = torch.randn((5, 3, 256, 256))\n",
    "    X_age = torch.LongTensor([2, 2, 1, 1, 2])\n",
    "\n",
    "    y_img = torch.randn((5, 3, 256, 256))\n",
    "    y_age = torch.LongTensor([2, 2, 0, 1, 2])\n",
    "    \n",
    "    model = Discriminator(input_size=256)\n",
    "    \n",
    "    print(f'\\n[PROCESSING THE DATA...]\\n')\n",
    "    \n",
    "    z = model.forward(X_img, X_age, y_img, y_age)\n",
    "\n",
    "    print(f'z: {z.shape}')\n",
    "    \n",
    "test()"
   ]
  },
  {
   "cell_type": "markdown",
   "id": "40f2c8a0",
   "metadata": {},
   "source": [
    "# Generator"
   ]
  },
  {
   "cell_type": "code",
   "execution_count": 40,
   "id": "fbb18545",
   "metadata": {},
   "outputs": [],
   "source": [
    "class Generator(nn.Module):\n",
    "    \"\"\"This is essentially a U-Net type architecture. But, we'll pass the input age and the output age as well.\n",
    "    \n",
    "    So, if the in_channels = 3, then we'll pass 5 channels in the model.\n",
    "        - 1 will be for the input_age embedding.\n",
    "        - 2 will be for the output_age embedding.\n",
    "    \n",
    "    \"\"\"\n",
    "\n",
    "    def __init__(self, in_channels: int = 3, num_age_groups: int = 3, input_size: int = 128) -> None:\n",
    "        super(Generator, self).__init__()\n",
    "        \n",
    "        self.input_embed = nn.Embedding(num_embeddings=num_age_groups, embedding_dim=input_size*input_size)\n",
    "        self.output_embed = nn.Embedding(num_embeddings=num_age_groups, embedding_dim=input_size*input_size)\n",
    "        self.input_size = input_size\n",
    "        \n",
    "        self.init_down = ConvBlock(in_channels=in_channels + 2, out_channels=64) # 5 -> 64\n",
    "        \n",
    "        self.down1 = ConvBlock(in_channels=64, out_channels=128) # 64 -> 128\n",
    "        self.down2 = ConvBlock(in_channels=128, out_channels=256) # 128 -> 256\n",
    "        self.down3 = ConvBlock(in_channels=256, out_channels=512) # 256 -> 512\n",
    "        self.down4 = ConvBlock(in_channels=512, out_channels=512) # 512 -> 512\n",
    "        self.down5 = ConvBlock(in_channels=512, out_channels=512) # 512 -> 512\n",
    "        self.down6 = ConvBlock(in_channels=512, out_channels=512) # 512 -> 512\n",
    "        \n",
    "        # bottle neck\n",
    "        self.bottle_neck = nn.Sequential(\n",
    "            nn.Conv2d(512, 512, 4, 2, 1, padding_mode='reflect'),\n",
    "            nn.LeakyReLU(negative_slope=0.2)\n",
    "        ) #\n",
    "        \n",
    "        self.up1 = TransposeConvBlock(in_channels=512, out_channels=512) # 512 -> 512\n",
    "        self.up2 = TransposeConvBlock(in_channels=1024, out_channels=512) # 512 -> 1024\n",
    "        self.up3 = TransposeConvBlock(in_channels=1024, out_channels=512) # 1024 -> 1024\n",
    "        self.up4 = TransposeConvBlock(in_channels=1024, out_channels=512) # 1024 -> 512\n",
    "        self.up5 = TransposeConvBlock(in_channels=1024, out_channels=256) # 512 -> 256\n",
    "        self.up6 = TransposeConvBlock(in_channels=512, out_channels=128) # 256 -> 128\n",
    "        self.up7 = TransposeConvBlock(in_channels=256, out_channels=64) # 128 -> 64\n",
    "        self.final_up = nn.Sequential(\n",
    "            nn.ConvTranspose2d(in_channels=128, out_channels=3, kernel_size=4, stride=2, padding=1),\n",
    "            nn.Tanh()\n",
    "        ) # 64 -> 3\n",
    "    \n",
    "    def forward(self, x: torch.Tensor, input_age: torch.Tensor, output_age: torch.Tensor) -> torch.Tensor:\n",
    "        \n",
    "        inp_embed = self.input_embed(input_age).reshape(input_age.shape[0], 1, self.input_size, self.input_size)\n",
    "        out_embed = self.output_embed(output_age).reshape(output_age.shape[0], 1, self.input_size, self.input_size)\n",
    "        \n",
    "        x = torch.cat([x, inp_embed, out_embed], dim=1)\n",
    "        d1 = self.init_down(x)\n",
    "        d2 = self.down1(d1)       \n",
    "        d3 = self.down2(d2)\n",
    "        d4 = self.down3(d3)\n",
    "        d5 = self.down4(d4)\n",
    "        d6 = self.down5(d5)\n",
    "        d7 = self.down6(d6)\n",
    "        bottle_neck = self.bottle_neck(d7)\n",
    "        u1 = self.up1(bottle_neck)\n",
    "        u2 = self.up2(torch.cat([u1, d7], dim=1))\n",
    "        u3 = self.up3(torch.cat([u2, d6], dim=1))\n",
    "        u4 = self.up4(torch.cat([u3, d5], dim=1))\n",
    "        u5 = self.up5(torch.cat([u4, d4], dim=1))\n",
    "        u6 = self.up6(torch.cat([u5, d3], dim=1))\n",
    "        u7 = self.up7(torch.cat([u6, d2], dim=1))\n",
    "        return self.final_up(torch.cat([u7, d1], dim=1))"
   ]
  },
  {
   "cell_type": "code",
   "execution_count": 41,
   "id": "27c43d97",
   "metadata": {},
   "outputs": [
    {
     "name": "stdout",
     "output_type": "stream",
     "text": [
      "\n",
      "[PROCESSING THE DATA...]\n",
      "\n",
      "z: torch.Size([1, 3, 256, 256])\n"
     ]
    }
   ],
   "source": [
    "def test():\n",
    "    X_img = torch.randn((1, 3, 256, 256))\n",
    "    X_age = torch.tensor([[2]])\n",
    "    y_age = torch.tensor([[1]])\n",
    "    \n",
    "    model = Generator(input_size=256)\n",
    "\n",
    "    print(f'\\n[PROCESSING THE DATA...]\\n')\n",
    "    \n",
    "    z = model.forward(X_img, X_age, y_age)\n",
    "\n",
    "    print(f'z: {z.shape}')\n",
    "    \n",
    "test()"
   ]
  },
  {
   "cell_type": "markdown",
   "id": "616716b0",
   "metadata": {},
   "source": [
    "# Optimization / Loss function\n",
    "\n",
    "The framework operates on three input information, an input image $x$ and its corresponding age label $y$, and randomly sampled target age $y'$ into which input should be transformed. Subsequently, given this information, G will produce __age-transformed $x'$__, __reconstructed $x_{rec}$__, and __cycle-consistency images $x_{cycle}$__ as \n",
    "\n",
    "$$x'=G(x,y')$$\n",
    "\n",
    "$$x_{rec}=G(x,y)$$\n",
    "\n",
    "$$x_{cycle}=G(x',y)$$\n",
    "\n",
    "## Reconstruction loss\n",
    "\n",
    "$$\\mathcal{L}_{rec}(G) = \\|x-x_{rec}\\|_1$$\n",
    "\n",
    "\n",
    "## Cycle-Consistency loss\n",
    "\n",
    "$$\\mathcal{L}_{cyc}(G) = \\|x-x_{cycle}\\|_1$$\n",
    "\n",
    "## Adversarial loss\n",
    "\n",
    "$$\\mathcal{L}_{adv}(G,D)=\\mathbb{E}_{x,y}[\\log D_y(x)] + \\mathbb{E}_{x,y'}[\\log(1-D_{y'}(x'))]$$\n"
   ]
  },
  {
   "cell_type": "markdown",
   "id": "d884570a-28f9-463a-9134-f5b238451df1",
   "metadata": {},
   "source": [
    "# Training Logic"
   ]
  },
  {
   "cell_type": "code",
   "execution_count": 43,
   "id": "e0621319-6da2-4d10-aa13-0da9391d3882",
   "metadata": {},
   "outputs": [],
   "source": [
    "class ReAgingGAN:\n",
    "    def __init__(self, \n",
    "                 discriminator: Discriminator, \n",
    "                 generator: Generator,\n",
    "                 optimizers: dict, \n",
    "                 schedulers: dict, \n",
    "                 trainloader: torch.utils.data.DataLoader, \n",
    "                 validloader: torch.utils.data.DataLoader, \n",
    "                 config: dict) -> None:\n",
    "        self.discriminator = discriminator\n",
    "        self.generator = generator\n",
    "        self.optimizers = optimizers\n",
    "        self.schedulers = schedulers\n",
    "        self.bce = nn.BCEWithLogitsLoss()\n",
    "        self.l1_loss = nn.L1Loss()\n",
    "        self.trainloader = trainloader\n",
    "        self.validloader = validloader\n",
    "        self.config = config\n",
    "    \n",
    "    def train(self):\n",
    "        for epoch in range(self.config['EPOCHS']):\n",
    "            for batch_ix, (X, y) in tqdm(enumerate(self.trainloader), desc=f'(TRAIN) EPOCH [{epoch+1}/{self.config[\"EPOCHS\"]}]'):\n",
    "                in_img, in_age = X[0].to(self.config['DEVICE']), X[1].to(self.config['DEVICE'])\n",
    "                out_img, out_age = y[0].to(self.config['DEVICE']), y[1].to(self.config['DEVICE'])\n",
    "                \n",
    "                x_dash = self.generator(in_img, in_age, out_age)\n",
    "                x_rec  = self.generator(in_img, in_age, in_age)\n",
    "                x_cyc  = self.generator(x_dash, out_age, in_age)\n",
    "                \n",
    "                adv_loss = self._adversarial_loss(in_img, in_age, out_img, out_age, x_dash)\n",
    "                rec_loss = self._reconstruction_loss(in_img, x_rec)\n",
    "                cyc_loss = self._cycle_consistency_loss(in_img, x_cyc)\n",
    "                \n",
    "                disc_loss = adv_loss[0]\n",
    "                gen_loss = adv_loss[1]\n",
    "                \n",
    "                gen_loss = self.config['ADV_LAMBDA'] * gen_loss + self.config['REC_LAMBDA'] * rec_loss + self.config['CYC_LAMBDA'] * cyc_loss\n",
    "                \n",
    "                self.optimizers['discriminator'].zero_grad()\n",
    "                disc_loss.backward(retain_graph=True)\n",
    "                self.optimizers['discriminator'].step()\n",
    "                self.schedulers['discriminator'].step()\n",
    "                \n",
    "                self.optimizers['generator'].zero_grad()\n",
    "                gen_loss.backward()\n",
    "                self.optimizers['generator'].step()\n",
    "                self.schedulers['generator'].step()\n",
    "    \n",
    "    def _adversarial_loss(self, in_img: torch.Tensor, in_age: torch.Tensor, out_img: torch.Tensor, out_age: torch.Tensor, x_dash: torch.Tensor) -> torch.Tensor:\n",
    "        disc_fake = self.discriminator(in_img, in_age, x_dash, out_age)\n",
    "        disc_real = self.discriminator(in_img, in_age, out_img, out_age)\n",
    "        \n",
    "        disc_real_loss = self.bce(disc_real, torch.ones_like(disc_real))\n",
    "        disc_fake_loss = self.bce(disc_fake, torch.zeros_like(disc_fake))\n",
    "        \n",
    "        gen_loss = self.bce(disc_fake, torch.ones_like(disc_fake))\n",
    "        \n",
    "        return (disc_fake_loss + disc_real_loss) / 2, gen_loss\n",
    "    \n",
    "    def _reconstruction_loss(self, in_img: torch.Tensor, x_rec: torch.Tensor) -> torch.Tensor:\n",
    "        return self.l1_loss(in_img, x_rec)\n",
    "    \n",
    "    def _cycle_consistency_loss(self, in_img: torch.Tensor, x_cyc: torch.Tensor) -> torch.Tensor:\n",
    "        return self.l1_loss(in_img, x_cyc)"
   ]
  }
 ],
 "metadata": {
  "kernelspec": {
   "display_name": "Python (PyTorch)",
   "language": "python",
   "name": "pytorch_env"
  },
  "language_info": {
   "codemirror_mode": {
    "name": "ipython",
    "version": 3
   },
   "file_extension": ".py",
   "mimetype": "text/x-python",
   "name": "python",
   "nbconvert_exporter": "python",
   "pygments_lexer": "ipython3",
   "version": "3.9.12"
  },
  "latex_envs": {
   "LaTeX_envs_menu_present": true,
   "autoclose": false,
   "autocomplete": true,
   "bibliofile": "biblio.bib",
   "cite_by": "apalike",
   "current_citInitial": 1,
   "eqLabelWithNumbers": true,
   "eqNumInitial": 1,
   "hotkeys": {
    "equation": "Ctrl-E",
    "itemize": "Ctrl-I"
   },
   "labels_anchors": false,
   "latex_user_defs": false,
   "report_style_numbering": false,
   "user_envs_cfg": false
  },
  "toc": {
   "base_numbering": 1,
   "nav_menu": {},
   "number_sections": true,
   "sideBar": true,
   "skip_h1_title": false,
   "title_cell": "Table of Contents",
   "title_sidebar": "Contents",
   "toc_cell": false,
   "toc_position": {},
   "toc_section_display": true,
   "toc_window_display": false
  }
 },
 "nbformat": 4,
 "nbformat_minor": 5
}
